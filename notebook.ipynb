{
 "cells": [
  {
   "cell_type": "markdown",
   "id": "9a1e8ef0-8c80-4564-98bf-9aa237136a49",
   "metadata": {},
   "source": [
    "Installation Instructions<br>\n",
    "Firsr we need to install all the required Python packages for project to work successfully."
   ]
  },
  {
   "cell_type": "code",
   "execution_count": 1,
   "id": "6f1e523e-1d19-4ae9-a113-557ab59d2442",
   "metadata": {},
   "outputs": [
    {
     "name": "stdout",
     "output_type": "stream",
     "text": [
      "Requirement already satisfied: apyori in /opt/anaconda3/lib/python3.12/site-packages (1.1.2)\n",
      "Note: you may need to restart the kernel to use updated packages.\n",
      "Requirement already satisfied: pandas in /opt/anaconda3/lib/python3.12/site-packages (2.2.2)\n",
      "Requirement already satisfied: numpy>=1.26.0 in /opt/anaconda3/lib/python3.12/site-packages (from pandas) (1.26.4)\n",
      "Requirement already satisfied: python-dateutil>=2.8.2 in /opt/anaconda3/lib/python3.12/site-packages (from pandas) (2.9.0.post0)\n",
      "Requirement already satisfied: pytz>=2020.1 in /opt/anaconda3/lib/python3.12/site-packages (from pandas) (2024.1)\n",
      "Requirement already satisfied: tzdata>=2022.7 in /opt/anaconda3/lib/python3.12/site-packages (from pandas) (2023.3)\n",
      "Requirement already satisfied: six>=1.5 in /opt/anaconda3/lib/python3.12/site-packages (from python-dateutil>=2.8.2->pandas) (1.16.0)\n",
      "Note: you may need to restart the kernel to use updated packages.\n",
      "Requirement already satisfied: mlxtend in /opt/anaconda3/lib/python3.12/site-packages (0.23.4)\n",
      "Requirement already satisfied: scipy>=1.2.1 in /opt/anaconda3/lib/python3.12/site-packages (from mlxtend) (1.13.1)\n",
      "Requirement already satisfied: numpy>=1.16.2 in /opt/anaconda3/lib/python3.12/site-packages (from mlxtend) (1.26.4)\n",
      "Requirement already satisfied: pandas>=0.24.2 in /opt/anaconda3/lib/python3.12/site-packages (from mlxtend) (2.2.2)\n",
      "Requirement already satisfied: scikit-learn>=1.3.1 in /opt/anaconda3/lib/python3.12/site-packages (from mlxtend) (1.5.1)\n",
      "Requirement already satisfied: matplotlib>=3.0.0 in /opt/anaconda3/lib/python3.12/site-packages (from mlxtend) (3.9.2)\n",
      "Requirement already satisfied: joblib>=0.13.2 in /opt/anaconda3/lib/python3.12/site-packages (from mlxtend) (1.4.2)\n",
      "Requirement already satisfied: contourpy>=1.0.1 in /opt/anaconda3/lib/python3.12/site-packages (from matplotlib>=3.0.0->mlxtend) (1.2.0)\n",
      "Requirement already satisfied: cycler>=0.10 in /opt/anaconda3/lib/python3.12/site-packages (from matplotlib>=3.0.0->mlxtend) (0.11.0)\n",
      "Requirement already satisfied: fonttools>=4.22.0 in /opt/anaconda3/lib/python3.12/site-packages (from matplotlib>=3.0.0->mlxtend) (4.51.0)\n",
      "Requirement already satisfied: kiwisolver>=1.3.1 in /opt/anaconda3/lib/python3.12/site-packages (from matplotlib>=3.0.0->mlxtend) (1.4.4)\n",
      "Requirement already satisfied: packaging>=20.0 in /opt/anaconda3/lib/python3.12/site-packages (from matplotlib>=3.0.0->mlxtend) (24.1)\n",
      "Requirement already satisfied: pillow>=8 in /opt/anaconda3/lib/python3.12/site-packages (from matplotlib>=3.0.0->mlxtend) (10.4.0)\n",
      "Requirement already satisfied: pyparsing>=2.3.1 in /opt/anaconda3/lib/python3.12/site-packages (from matplotlib>=3.0.0->mlxtend) (3.1.2)\n",
      "Requirement already satisfied: python-dateutil>=2.7 in /opt/anaconda3/lib/python3.12/site-packages (from matplotlib>=3.0.0->mlxtend) (2.9.0.post0)\n",
      "Requirement already satisfied: pytz>=2020.1 in /opt/anaconda3/lib/python3.12/site-packages (from pandas>=0.24.2->mlxtend) (2024.1)\n",
      "Requirement already satisfied: tzdata>=2022.7 in /opt/anaconda3/lib/python3.12/site-packages (from pandas>=0.24.2->mlxtend) (2023.3)\n",
      "Requirement already satisfied: six>=1.5 in /opt/anaconda3/lib/python3.12/site-packages (from python-dateutil>=2.7->matplotlib>=3.0.0->mlxtend) (1.16.0)\n",
      "Requirement already satisfied: threadpoolctl>=3.1.0 in /opt/anaconda3/lib/python3.12/site-packages (from scikit-learn>=1.3.1->mlxtend) (3.5.0)\n",
      "Note: you may need to restart the kernel to use updated packages.\n"
     ]
    }
   ],
   "source": [
    "%pip install apyori\n",
    "%pip install pandas\n",
    "%pip install mlxtend"
   ]
  },
  {
   "cell_type": "markdown",
   "id": "d1a92768-eacb-470b-937e-e58bb8a4454c",
   "metadata": {},
   "source": [
    "<h3> Importing required libraries and modules "
   ]
  },
  {
   "cell_type": "code",
   "execution_count": 2,
   "id": "bd89072f-0404-49ef-b238-58734e10bf6c",
   "metadata": {},
   "outputs": [],
   "source": [
    "import pandas as pd\n",
    "from apyori import apriori\n",
    "from mlxtend.preprocessing import TransactionEncoder\n",
    "from mlxtend.frequent_patterns import fpgrowth, association_rules\n",
    "from itertools import combinations\n",
    "from tabulate import tabulate\n",
    "import time"
   ]
  },
  {
   "cell_type": "markdown",
   "id": "c747dbb9-5582-4986-8b0c-148fe60bc455",
   "metadata": {},
   "source": [
    "<h3> Get input from the user</h3>\n",
    "<p>In this section, we ask the user to select their preferred store from the provided list</p>"
   ]
  },
  {
   "cell_type": "code",
   "execution_count": 3,
   "id": "2069b315-717b-4c7a-b64a-9b1225aa9d35",
   "metadata": {},
   "outputs": [
    {
     "name": "stdout",
     "output_type": "stream",
     "text": [
      "Hi there!!\n",
      "\n",
      "You select bestbuy.csv\n",
      "\n",
      "Enter support value: 50 \n",
      "Enter confidence value: 70\n"
     ]
    }
   ],
   "source": [
    "print(\"Hi there!!\\n\")\n",
    "\n",
    "user_input = int(input(\"Enter the store number you want to move on:: \\n1. Amazon \\n2. Apple \\n3. Best Buy \\n4. Costco \\n5. Nike \\n\"))\n",
    "\n",
    "datasets = ('Amazon', 'Apple', 'Best Buy', 'Costco', 'Nike')\n",
    "\n",
    "if user_input < 1 or user_input > len(datasets):\n",
    "    print(\"You select invalid value!!, retry\")\n",
    "    quit()\n",
    "\n",
    "def select_store(store):\n",
    "    data = ''\n",
    "    if store == 1:\n",
    "        data = 'amazon.csv'\n",
    "    elif store == 2:\n",
    "        data = 'apple.csv'\n",
    "    elif store == 3:\n",
    "        data = 'bestbuy.csv'\n",
    "    elif store == 4:\n",
    "        data = 'costco.csv'\n",
    "    elif store == 5:\n",
    "        data = 'nike.csv'\n",
    "\n",
    "    return data\n",
    "\n",
    "print(f\"You select {select_store(user_input)}\")\n",
    "df = pd.read_csv(select_store(user_input))\n",
    "try:\n",
    "    support_input = int(input(\"\\nEnter the minimum support value between 1 and 100 :: \"))\n",
    "    if support_input < 1 or support_input > 100:\n",
    "        raise ValueError(\"Invalid support value.\")\n",
    "    \n",
    "    confidence_input = int(input(\"Enter the confidence level between 1 and 100 :: \"))\n",
    "    if confidence_input < 1 or confidence_input > 100:\n",
    "        raise ValueError(\"Invalid confidence value.\")\n",
    "\n",
    "except ValueError as e:\n",
    "    print(f\"Error: {e}. Please retry...\")\n",
    "    quit()\n",
    "print(f\"\\nEnter support value: {support_input} \\nEnter confidence value: {confidence_input}\")\n",
    "\n",
    "#now we remove all null or empty transaction row from the data set and also split transtion into list. For example: if out transction is A,B,C -> [A, B, C]\n",
    "df = df[df['Transaction'].apply(lambda x: x.strip() != '' )]\n",
    "transactions = df['Transaction'].apply(lambda x: [item.strip() for item in x.split(',')]).tolist()"
   ]
  },
  {
   "cell_type": "markdown",
   "id": "12b58086-d786-4e0a-b002-43da3d1fbee4",
   "metadata": {},
   "source": [
    "<h4> now we conver support and confidence vlaues in to % "
   ]
  },
  {
   "cell_type": "code",
   "execution_count": 4,
   "id": "101f3086-5a58-40fa-a51e-cd98fee2dc1e",
   "metadata": {},
   "outputs": [
    {
     "name": "stdout",
     "output_type": "stream",
     "text": [
      "\n",
      "New support value: 0.5 \n",
      "New confidence value: 0.7\n"
     ]
    }
   ],
   "source": [
    "support = support_input/100\n",
    "confidence = confidence_input/100\n",
    "\n",
    "print(f\"\\nNew support value: {support} \\nNew confidence value: {confidence}\")\n"
   ]
  },
  {
   "cell_type": "markdown",
   "id": "761fb8ef-7165-4bb6-ba0d-0a81f430f94d",
   "metadata": {},
   "source": [
    "<H4> Brutr Force Algorithm"
   ]
  },
  {
   "cell_type": "code",
   "execution_count": 5,
   "id": "8e2da87c-a923-4259-9da2-623ccdc6eb1b",
   "metadata": {},
   "outputs": [],
   "source": [
    "def brute_force(transactions, support, confidence):\n",
    "    total_tran = len(transactions)\n",
    "    support_count = support * total_tran\n",
    "    \n",
    "    freq_item = {}\n",
    "    main_itemsets = {}\n",
    "    association_rules = []\n",
    "\n",
    "    # Generate frequency set\n",
    "    for elem in transactions:\n",
    "        for length in range(1, len(elem) + 1):\n",
    "            for i in combinations(elem, length):\n",
    "                i = tuple(sorted(i))  # this avoids duplicates like {'A', 'B'} and {'B', 'A'}\n",
    "                if i in freq_item:\n",
    "                    freq_item[i] += 1\n",
    "                else:\n",
    "                    freq_item[i] = 1\n",
    "\n",
    "    # Filtering frequent itemsets with minimum support\n",
    "    for itemset, count in freq_item.items():\n",
    "        if count >= support_count:\n",
    "            main_itemsets[itemset] = count\n",
    "\n",
    "    # Generate association rules\n",
    "    for itemset in main_itemsets:\n",
    "        if len(itemset) > 1:\n",
    "            for i in range(1, len(itemset)):\n",
    "                for left in combinations(itemset, i):\n",
    "                    right = tuple(sorted(set(itemset) - set(left)))  # A -> B\n",
    "                    union = tuple(sorted(left + right))  # A ∪ B\n",
    "                    \n",
    "                    support_union = main_itemsets.get(union, 0)\n",
    "                    support_left = main_itemsets.get(left, 0)\n",
    "\n",
    "                    if support_left > 0:\n",
    "                        support_confidence = support_union / support_left\n",
    "                        if support_confidence >= confidence:\n",
    "                            association_rules.append((left, right, support_confidence))\n",
    "\n",
    "    # Generating Association rules for output\n",
    "    final_list = []\n",
    "    for A, B, confi in association_rules:\n",
    "        ans_str = f\"{{{', '.join(A)}}} → {{{', '.join(B)}}}, Confidence: {confi * 100:.2f}%\"\n",
    "        final_list.append(ans_str)\n",
    "\n",
    "    return final_list"
   ]
  },
  {
   "cell_type": "markdown",
   "id": "17560921-f9e8-41da-b1f1-9ffb6bfbbd6b",
   "metadata": {},
   "source": [
    "<H4>Apriori Algorithm"
   ]
  },
  {
   "cell_type": "code",
   "execution_count": 6,
   "id": "98420a4f-1694-4ff1-b80c-c55f14d58e8c",
   "metadata": {},
   "outputs": [],
   "source": [
    "def apriori_algo(transactions, support, confidence):\n",
    "    # Implement the apriori algorithm\n",
    "    ans = list(apriori(transactions, min_support=support, min_confidence=confidence))\n",
    "\n",
    "    # Generating Association rules for output\n",
    "    final_list = []\n",
    "    for elem in ans:\n",
    "        for stat in elem.ordered_statistics:\n",
    "            left = ', '.join(stat.items_base)\n",
    "            right = ', '.join(stat.items_add)\n",
    "            confidence = stat.confidence * 100\n",
    "            support = elem.support * 100\n",
    "            if left:  \n",
    "                ans_str = f\"{{{left}}} → {{{right}}}, Confidence: {confidence:.2f}%\"\n",
    "                final_list.append(ans_str)\n",
    "    \n",
    "    return final_list"
   ]
  },
  {
   "cell_type": "markdown",
   "id": "0543ed61-aa02-44c5-895c-2d7b9ae9305d",
   "metadata": {},
   "source": [
    "<H4> FP Tree Algoritham "
   ]
  },
  {
   "cell_type": "code",
   "execution_count": 7,
   "id": "29979e9e-4c8a-4718-9e41-056107bb250e",
   "metadata": {},
   "outputs": [],
   "source": [
    "def fp_growth_tree_algo(transactions, support, confidence):\n",
    "\n",
    "    # Use TransactionEncoder to Encode the transactions\n",
    "    encoder = TransactionEncoder()\n",
    "    encoder_array = encoder.fit(transactions).transform(transactions)\n",
    "    encoder_dataframe = pd.DataFrame(encoder_array, columns=encoder.columns_)\n",
    "\n",
    "    # geting frequent itemsets using fpgrowth\n",
    "    frequent_itemsets = fpgrowth(encoder_dataframe, min_support=support, use_colnames=True)\n",
    "\n",
    "    if frequent_itemsets.empty:\n",
    "        print(\"Don't have frequent itemsets for support\")\n",
    "        return []\n",
    "\n",
    "    # Generate the association rules\n",
    "    association_rules_df = association_rules(frequent_itemsets, metric=\"confidence\", min_threshold=confidence)\n",
    "\n",
    "    if association_rules_df.empty:\n",
    "        print(\"Don't have any association rules for itemsets\")\n",
    "\n",
    "    # rules for output\n",
    "    final_list = []\n",
    "    for index, row in association_rules_df.iterrows():\n",
    "        antecedents = ', '.join(row['antecedents'])\n",
    "        consequents = ', '.join(row['consequents'])\n",
    "        confidence = row['confidence'] * 100  # Convert confidence to percentage\n",
    "        and_str = f\"{{{antecedents}}} → {{{consequents}}}, Confidence: {confidence:.2f}%\"\n",
    "        final_list.append(and_str)\n",
    "\n",
    "    return final_list"
   ]
  },
  {
   "cell_type": "markdown",
   "id": "f4efc12d-00cf-4c87-a432-0d594d045f14",
   "metadata": {},
   "source": [
    "<h3>Algorithm Selecting </h3>\n",
    "Executing the selected algorithm(s) and displaying the rules"
   ]
  },
  {
   "cell_type": "code",
   "execution_count": 8,
   "id": "edb51fec-f499-4f7d-a453-9c832dc937fa",
   "metadata": {},
   "outputs": [
    {
     "name": "stdout",
     "output_type": "stream",
     "text": [
      "\n",
      "Running Brute Force Algorithm...\n",
      "\n",
      "------------------------------\n",
      "1. {1TB SSD} → {Adobe}, Confidence: 86.67%\n",
      "2. {Adobe} → {1TB SSD}, Confidence: 100.00%\n",
      "3. {Anti-Virus} → {Laptop case}, Confidence: 86.67%\n",
      "4. {Laptop case} → {Anti-Virus}, Confidence: 86.67%\n",
      "Brute Force time taken: 0.0068480 seconds\n",
      "\n",
      "Running Apriori Algorithm...\n",
      "------------------------------\n",
      "1. {1TB SSD} → {Adobe}, Confidence: 86.67%\n",
      "2. {Adobe} → {1TB SSD}, Confidence: 100.00%\n",
      "3. {Anti-Virus} → {Laptop case}, Confidence: 86.67%\n",
      "4. {Laptop case} → {Anti-Virus}, Confidence: 86.67%\n",
      "\n",
      "Apriori time taken: 0.0002940 seconds\n",
      "\n",
      "Running FP Tree Algorithm...\n",
      "------------------------------\n",
      "1. {Laptop case} → {Anti-Virus}, Confidence: 86.67%\n",
      "2. {Anti-Virus} → {Laptop case}, Confidence: 86.67%\n",
      "3. {Adobe} → {1TB SSD}, Confidence: 100.00%\n",
      "4. {1TB SSD} → {Adobe}, Confidence: 86.67%\n",
      "\n",
      "FP Tree time taken: 0.0079751 seconds\n",
      "╭─────────────┬───────────╮\n",
      "│ Algorithm   │      Time │\n",
      "├─────────────┼───────────┤\n",
      "│ Brute Force │ 0.006848  │\n",
      "├─────────────┼───────────┤\n",
      "│ Apriori     │ 0.000294  │\n",
      "├─────────────┼───────────┤\n",
      "│ FP-Growth   │ 0.0079751 │\n",
      "╰─────────────┴───────────╯\n",
      "\n",
      "Fastest Algorithm: Apriori with a time of 0.0002940 seconds\n"
     ]
    }
   ],
   "source": [
    "algo_choice = int(input(\"Select Algorithm of your choise:: \\n1. Brute Force Algoritham\\n2. Apriori Algorithm\\n3. FP Tree Algoritham\\n4. For All Algorithms \\n\"))\n",
    "\n",
    "# function that run Brute Force algo.\n",
    "def run_brute_force(transactions, support, confidence):\n",
    "    starting_time = time.perf_counter()\n",
    "    rules = brute_force(transactions, support, confidence)\n",
    "    ending_time = time.perf_counter()\n",
    "    result_time = ending_time - starting_time\n",
    "    return rules, result_time\n",
    "\n",
    "# function that run Apriori algo.\n",
    "def run_apriori(transactions, support, confidence):\n",
    "    starting_time = time.perf_counter()\n",
    "    rules = apriori_algo(transactions, support, confidence)\n",
    "    ending_time = time.perf_counter()\n",
    "    result_time = ending_time - starting_time\n",
    "    return rules, result_time\n",
    "\n",
    "# function that run FP groth tree algo.\n",
    "def run_fp_tree(transactions, support, confidence):\n",
    "    starting_time = time.perf_counter()\n",
    "    rules = fp_growth_tree_algo(transactions, support, confidence)\n",
    "    ending_time = time.perf_counter()\n",
    "    result_time = ending_time - starting_time\n",
    "    return rules, result_time\n",
    "\n",
    "\n",
    "# function which get input from user and run their prefered algo and provide output:\n",
    "while True:\n",
    "    if algo_choice == 1:\n",
    "        bf_ans_str, bf_time = run_brute_force(transactions, support, confidence)  \n",
    "        for i, rule in enumerate(bf_ans_str, 1):\n",
    "            print(f\"{i}. {rule}\")\n",
    "        print(f\"\\nTime taken by Brute Force algoritham: {bf_time:.7f} seconds\")\n",
    "\n",
    "    elif algo_choice == 2:\n",
    "        ap_ans_str, ap_time = run_apriori(transactions, support, confidence)  \n",
    "        for i, rule in enumerate(ap_ans_str, 1):\n",
    "            print(f\"{i}. {rule}\")\n",
    "        print(f\"\\nTime taken by Apriori algoritham: {ap_time:.7f} seconds\")\n",
    "\n",
    "    elif algo_choice == 3:\n",
    "        \n",
    "        fp_ans_str, fp_time = run_fp_tree(transactions, support, confidence)\n",
    "        for i, rule in enumerate(fp_ans_str, 1):\n",
    "            print(f\"{i}. {rule}\")\n",
    "        print(f\"\\nTime taken by FP Tree algoritham: {fp_time:.7f} seconds\")\n",
    "\n",
    "    elif algo_choice == 4:\n",
    "        \n",
    "        print(\"\\nRunning Brute Force Algorithm...\\n\")\n",
    "        bf_ans_str, bf_time = run_brute_force(transactions, support, confidence)\n",
    "        print(\"-\"*30)\n",
    "        for i, rule in enumerate(bf_ans_str, 1):\n",
    "            print(f\"{i}. {rule}\")\n",
    "        print(f\"Brute Force time taken: {bf_time:.7f} seconds\")\n",
    "\n",
    "        print(\"\\nRunning Apriori Algorithm...\")\n",
    "        ap_ans_str, ap_time = run_apriori(transactions, support, confidence)\n",
    "        print(\"-\"*30)\n",
    "        for i, rule in enumerate(ap_ans_str, 1):\n",
    "            print(f\"{i}. {rule}\")\n",
    "        print(f\"\\nApriori time taken: {ap_time:.7f} seconds\")\n",
    "\n",
    "        print(\"\\nRunning FP Tree Algorithm...\")\n",
    "        fp_ans_str, fp_time = run_fp_tree(transactions, support, confidence)\n",
    "        print(\"-\"*30)\n",
    "        for i, rule in enumerate(fp_ans_str, 1):\n",
    "            print(f\"{i}. {rule}\")\n",
    "        print(f\"\\nFP Tree time taken: {fp_time:.7f} seconds\")\n",
    "\n",
    "        # if user select all algotitham for run then comparison times\n",
    "        all_times = {'Brute Force': bf_time, 'Apriori': ap_time, 'FP Tree': fp_time}\n",
    "\n",
    "        time_data = [\n",
    "            [\"Brute Force\", f\"{bf_time:.7f}\"],\n",
    "            [\"Apriori\", f\"{ap_time:.7f}\"],\n",
    "            [\"FP-Growth\", f\"{fp_time:.7f}\"]\n",
    "        ]\n",
    "        print(tabulate(time_data, headers=[\"Algorithm\", \"Time\"], tablefmt=\"rounded_grid\"))\n",
    "\n",
    "        fastest_algo = min(all_times, key=all_times.get)\n",
    "        print(f\"\\nFastest Algorithm: {fastest_algo} with a time of {all_times[fastest_algo]:.7f} seconds\")  \n",
    "    break"
   ]
  },
  {
   "cell_type": "code",
   "execution_count": null,
   "id": "6e11f9d7",
   "metadata": {},
   "outputs": [],
   "source": []
  }
 ],
 "metadata": {
  "kernelspec": {
   "display_name": "base",
   "language": "python",
   "name": "python3"
  },
  "language_info": {
   "codemirror_mode": {
    "name": "ipython",
    "version": 3
   },
   "file_extension": ".py",
   "mimetype": "text/x-python",
   "name": "python",
   "nbconvert_exporter": "python",
   "pygments_lexer": "ipython3",
   "version": "3.12.2"
  }
 },
 "nbformat": 4,
 "nbformat_minor": 5
}
